{
 "cells": [
  {
   "cell_type": "markdown",
   "metadata": {},
   "source": [
    "Data Science Tools and Ecosystem"
   ]
  },
  {
   "cell_type": "markdown",
   "metadata": {},
   "source": [
    "In this Jupyter notebook, I'm proving what I've learned in this Data Science course "
   ]
  },
  {
   "cell_type": "markdown",
   "metadata": {},
   "source": [
    "Data science languages:\n",
    "-Python\n",
    "-R\n",
    "-SQL\n",
    "-Julia\n",
    "-Scala"
   ]
  },
  {
   "cell_type": "markdown",
   "metadata": {},
   "source": [
    "Data science libraries:\n",
    "-Padas\n",
    "-NumPy\n",
    "-Scikit-learn\n",
    "-Pytorch\n",
    "-TensorFlow\n",
    "\n"
   ]
  },
  {
   "cell_type": "markdown",
   "metadata": {},
   "source": [
    "| Data Science Tools |\n",
    "|--------------------|\n",
    "| Python             |\n",
    "| R                  |\n",
    "| SQL                |\n",
    "| Julia              |\n",
    "| Scala              |\n"
   ]
  },
  {
   "cell_type": "markdown",
   "metadata": {},
   "source": [
    "# Arithmetic Expressions in Python\n",
    "\n",
    "# Arithmetic expressions are used to perform mathematical operations. Here are some basic examples:\n",
    "\n",
    " # 5 + 3  # Result: 8\n",
    " # 10 - 2  # Result: 8\n",
    " # 4 * 7  # Result: 28\n",
    "\n",
    "\n"
   ]
  },
  {
   "cell_type": "code",
   "execution_count": 3,
   "metadata": {},
   "outputs": [
    {
     "name": "stdout",
     "output_type": "stream",
     "text": [
      "Multiplication Result:  42\n",
      "Addition Result:  20\n"
     ]
    }
   ],
   "source": [
    "# Multiplying two numbers\n",
    "multiplication_result = 6 * 7\n",
    "\n",
    "# Adding two numbers\n",
    "addition_result = 12 + 8\n",
    "\n",
    "# Displaying the results\n",
    "print(\"Multiplication Result: \", multiplication_result)\n",
    "print(\"Addition Result: \", addition_result)\n"
   ]
  },
  {
   "cell_type": "code",
   "execution_count": 4,
   "metadata": {},
   "outputs": [
    {
     "name": "stdout",
     "output_type": "stream",
     "text": [
      "274 minutes is equal to 4.566666666666666 hours.\n"
     ]
    }
   ],
   "source": [
    "# Convert minutes to hours\n",
    "minutes = 274  \n",
    "hours = minutes / 60\n",
    "\n",
    "# Displaying the result\n",
    "print(f\"{minutes} minutes is equal to {hours} hours.\")\n"
   ]
  },
  {
   "cell_type": "markdown",
   "metadata": {},
   "source": [
    " Objectives\n",
    "\n",
    "- Understand basic arithmetic operations in Python.\n",
    "- Learn how to convert minutes to hours using Python code.\n",
    "- Practice creating markdown and code cells in a Jupyter notebook.\n",
    "- Get familiar with using Python for simple mathematical calculations.\n"
   ]
  },
  {
   "cell_type": "markdown",
   "metadata": {},
   "source": [
    "José Vergara"
   ]
  }
 ],
 "metadata": {
  "kernelspec": {
   "display_name": "base",
   "language": "python",
   "name": "python3"
  },
  "language_info": {
   "codemirror_mode": {
    "name": "ipython",
    "version": 3
   },
   "file_extension": ".py",
   "mimetype": "text/x-python",
   "name": "python",
   "nbconvert_exporter": "python",
   "pygments_lexer": "ipython3",
   "version": "3.12.4"
  }
 },
 "nbformat": 4,
 "nbformat_minor": 2
}
